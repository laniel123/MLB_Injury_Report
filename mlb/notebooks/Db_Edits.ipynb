{
 "cells": [
  {
   "cell_type": "code",
   "execution_count": 1,
   "id": "017c0e95",
   "metadata": {},
   "outputs": [],
   "source": [
    "import pandas as pd\n",
    "import sqlite3 \n",
    "import os"
   ]
  },
  {
   "cell_type": "code",
   "execution_count": null,
   "id": "8b792ed2",
   "metadata": {},
   "outputs": [],
   "source": [
    "# For Jupyter notebooks, use the current working directory\n",
    "project_root = os.path.abspath(os.path.join(os.getcwd(), '..', '..'))\n",
    "sys.path.append(project_root)\n",
    "\n",
    "import config\n",
    "\n",
    "print(\"DB_PATH:\", config.DB_PATH)\n",
    "print(\"INJURY_MODEL_PATH:\", config.INJURY_MODEL_PATH)\n",
    "\n",
    "db_path = config.DB_PATH\n",
    "model_path = config.INJURY_MODEL_PATH\n",
    "\n",
    "# Connect to the database\n",
    "conn = sqlite3.connect(db_path)\n",
    "cursor = conn.cursor()\n",
    "\n",
    "pd.set_option('display.max_columns', None)"
   ]
  },
  {
   "cell_type": "markdown",
   "id": "8085387e",
   "metadata": {},
   "source": [
    "## Create Tables"
   ]
  },
  {
   "cell_type": "code",
   "execution_count": 3,
   "id": "a20dc021",
   "metadata": {},
   "outputs": [
    {
     "data": {
      "text/plain": [
       "<sqlite3.Cursor at 0x10dd5eec0>"
      ]
     },
     "execution_count": 3,
     "metadata": {},
     "output_type": "execute_result"
    }
   ],
   "source": [
    "cursor.execute('''\n",
    "    CREATE TABLE IF NOT EXISTS injury_stats (\n",
    "        mlb_player_id INTEGER,\n",
    "        player_name TEXT,\n",
    "        injury_date TEXT,\n",
    "        season TEXT,\n",
    "        injury_description TEXT,\n",
    "        team_name TEXT,\n",
    "        PRIMARY KEY (mlb_player_id, injury_date)\n",
    "    )\n",
    "    ''')"
   ]
  },
  {
   "cell_type": "code",
   "execution_count": 4,
   "id": "08801757",
   "metadata": {},
   "outputs": [
    {
     "data": {
      "text/plain": [
       "<sqlite3.Cursor at 0x12935edc0>"
      ]
     },
     "execution_count": 4,
     "metadata": {},
     "output_type": "execute_result"
    }
   ],
   "source": [
    "cursor.execute('''\n",
    "    CREATE TABLE IF NOT EXISTS mlb_player_stats (\n",
    "        mlb_player_id INTEGER,\n",
    "        stat_type TEXT,\n",
    "        stat_group TEXT,\n",
    "        season TEXT,\n",
    "        game_date TEXT,\n",
    "        team_id INTEGER,\n",
    "        team_name TEXT,\n",
    "        opponent_id INTEGER,\n",
    "        opponent_name TEXT,\n",
    "        position TEXT,\n",
    "        gamesPlayed INTEGER,\n",
    "        games TEXT DEFAULT 'na',\n",
    "        gamesStarted INTEGER,\n",
    "        assists INTEGER,\n",
    "        putOuts INTEGER,\n",
    "        errors INTEGER,\n",
    "        chances INTEGER,\n",
    "        fielding TEXT,\n",
    "        doublePlays INTEGER,\n",
    "        triplePlays INTEGER,\n",
    "        throwingErrors INTEGER,\n",
    "        rangeFactorPerGame TEXT,\n",
    "        rangeFactorPer9Inn TEXT,\n",
    "        innings TEXT,\n",
    "        inningsPitched TEXT,\n",
    "        catcherERA TEXT,\n",
    "        flyOuts INTEGER,\n",
    "        groundOuts INTEGER,\n",
    "        airOuts INTEGER,\n",
    "        passedBall INTEGER,\n",
    "        wins INTEGER,\n",
    "        losses INTEGER,\n",
    "        wildPitches INTEGER,\n",
    "        pickoffs INTEGER,\n",
    "        runs INTEGER,\n",
    "        doubles INTEGER,\n",
    "        triples INTEGER,\n",
    "        homeRuns INTEGER,\n",
    "        strikeOuts INTEGER,\n",
    "        baseOnBalls INTEGER,\n",
    "        intentionalWalks INTEGER,\n",
    "        hits INTEGER,\n",
    "        hitByPitch INTEGER,\n",
    "        avg TEXT,\n",
    "        atBats INTEGER,\n",
    "        obp TEXT,\n",
    "        slg TEXT,\n",
    "        ops TEXT,\n",
    "        caughtStealing INTEGER,\n",
    "        stolenBases INTEGER,\n",
    "        stolenBasePercentage TEXT,\n",
    "        groundIntoDoublePlay INTEGER,\n",
    "        groundIntoTriplePlay INTEGER,\n",
    "        numberOfPitches INTEGER,\n",
    "        plateAppearances INTEGER,\n",
    "        totalBases INTEGER,\n",
    "        rbi INTEGER,\n",
    "        leftOnBase INTEGER,\n",
    "        sacBunts INTEGER,\n",
    "        sacFlies INTEGER,\n",
    "        babip TEXT,\n",
    "        groundOutsToAirouts TEXT,\n",
    "        catchersInterference INTEGER,\n",
    "        atBatsPerHomeRun TEXT,\n",
    "        summary TEXT,\n",
    "        isHome BOOLEAN,\n",
    "        isWin BOOLEAN,\n",
    "        game_id INTEGER,\n",
    "        game_number INTEGER,\n",
    "        day_night TEXT,\n",
    "        era TEXT DEFAULT 'na',\n",
    "        game TEXT DEFAULT 'na',\n",
    "        PRIMARY KEY (mlb_player_id, stat_type, stat_group, season, game_date, position)\n",
    "    )\n",
    "    ''')"
   ]
  },
  {
   "cell_type": "code",
   "execution_count": null,
   "id": "aa675061",
   "metadata": {},
   "outputs": [],
   "source": []
  },
  {
   "cell_type": "code",
   "execution_count": 6,
   "id": "3038c50f",
   "metadata": {},
   "outputs": [
    {
     "data": {
      "text/plain": [
       "<sqlite3.Cursor at 0x14552abc0>"
      ]
     },
     "execution_count": 6,
     "metadata": {},
     "output_type": "execute_result"
    }
   ],
   "source": [
    "cursor.execute('DROP TABLE IF EXISTS mlb_player_stats')"
   ]
  },
  {
   "cell_type": "code",
   "execution_count": 11,
   "id": "7baecc7e",
   "metadata": {},
   "outputs": [
    {
     "name": "stdout",
     "output_type": "stream",
     "text": [
      "✅ All unnecessary tables dropped!\n"
     ]
    }
   ],
   "source": [
    "# Get all table names we want to drop (excluding the ones we want to keep)\n",
    "cursor.execute(\"\"\"\n",
    "    SELECT name FROM sqlite_master \n",
    "    WHERE type='table' \n",
    "    AND name NOT IN (\n",
    "        'mlb_player_info', 'sqlite_sequence', 'mlb_player_stats'\n",
    "    )\n",
    "\"\"\")\n",
    "tables = cursor.fetchall()\n",
    "\n",
    "# Drop each table not defined in the keep list\n",
    "for table in tables:\n",
    "    table_name = table[0]\n",
    "    print(f\"Dropping table: {table_name}\")\n",
    "    cursor.execute(f'DROP TABLE IF EXISTS \"{table_name}\";')  # use double quotes for identifiers\n",
    "\n",
    "# Commit changes\n",
    "conn.commit()\n",
    "print(\"✅ All unnecessary tables dropped!\")"
   ]
  }
 ],
 "metadata": {
  "kernelspec": {
   "display_name": "venv",
   "language": "python",
   "name": "python3"
  },
  "language_info": {
   "codemirror_mode": {
    "name": "ipython",
    "version": 3
   },
   "file_extension": ".py",
   "mimetype": "text/x-python",
   "name": "python",
   "nbconvert_exporter": "python",
   "pygments_lexer": "ipython3",
   "version": "3.11.9"
  }
 },
 "nbformat": 4,
 "nbformat_minor": 5
}
