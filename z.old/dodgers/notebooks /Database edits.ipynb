{
 "cells": [
  {
   "cell_type": "markdown",
   "id": "c20af4a0",
   "metadata": {},
   "source": [
    "## Imports "
   ]
  },
  {
   "cell_type": "code",
   "execution_count": 1,
   "id": "f7bba0c8",
   "metadata": {},
   "outputs": [],
   "source": [
    "import pandas as pd\n",
    "import sqlite3 "
   ]
  },
  {
   "cell_type": "code",
   "execution_count": 7,
   "id": "b2993cdb",
   "metadata": {},
   "outputs": [],
   "source": [
    "db_path = '/Users/daniellarson/Desktop/Code/Projects/dodgers_injtrkr/data/dodgers_injury_db.sqlite'  # change this to your actual path\n",
    "conn = sqlite3.connect(db_path)\n",
    "cursor = conn.cursor()"
   ]
  },
  {
   "cell_type": "code",
   "execution_count": 12,
   "id": "30e94260",
   "metadata": {},
   "outputs": [
    {
     "name": "stdout",
     "output_type": "stream",
     "text": [
      "                    name\n",
      "0        sqlite_sequence\n",
      "1                players\n",
      "2               injuries\n",
      "3  career_fielding_stats\n",
      "4   career_hitting_stats\n",
      "5              game_logs\n"
     ]
    }
   ],
   "source": [
    "tables = pd.read_sql_query(\"SELECT name FROM sqlite_master WHERE type='table';\", conn) \n",
    "print(tables) "
   ]
  },
  {
   "cell_type": "markdown",
   "id": "bde88418",
   "metadata": {},
   "source": [
    "## Database Manipulation    "
   ]
  },
  {
   "cell_type": "code",
   "execution_count": 5,
   "id": "d1ca99c5",
   "metadata": {},
   "outputs": [],
   "source": [
    "db_path  = '/Users/daniellarson/Desktop/Code/Projects/dodgers_injtrkr/data/dodgers_injury_db.sqlite'\n",
    "\n",
    "conn = sqlite3.connect(db_path)\n",
    "cursor = conn.cursor()\n"
   ]
  },
  {
   "cell_type": "code",
   "execution_count": null,
   "id": "50ac6ccf",
   "metadata": {},
   "outputs": [
    {
     "name": "stdout",
     "output_type": "stream",
     "text": [
      "Added 'href' column to players table.\n"
     ]
    }
   ],
   "source": [
    "conn = sqlite3.connect(db_path)\n",
    "cursor = conn.cursor()\n",
    "\n",
    "cursor.execute('''\n",
    "ALTER TABLE players ADD COLUMN href TEXT\n",
    "''')\n",
    "\n",
    "conn.commit()\n",
    "conn.close()\n",
    "\n",
    "print(\"Added 'href' column to players table.\")"
   ]
  },
  {
   "cell_type": "code",
   "execution_count": 27,
   "id": "19c81d13",
   "metadata": {},
   "outputs": [
    {
     "name": "stdout",
     "output_type": "stream",
     "text": [
      "✅ Table reset complete!\n"
     ]
    }
   ],
   "source": [
    "\n",
    "db_path = '/Users/daniellarson/Desktop/Code/Projects/dodgers_injtrkr/data/dodgers_injury_db.sqlite'\n",
    "conn = sqlite3.connect(db_path)\n",
    "cursor = conn.cursor()\n",
    "\n",
    "# Drop table if exists\n",
    "cursor.execute('DROP TABLE IF EXISTS players;')\n",
    "\n",
    "# Create table\n",
    "cursor.execute('''\n",
    "    CREATE TABLE players (\n",
    "        mlb_player_id INTEGER PRIMARY KEY,\n",
    "        name TEXT,\n",
    "        position TEXT,\n",
    "        team TEXT,\n",
    "        dob TEXT,\n",
    "        bats TEXT,\n",
    "        throws TEXT,\n",
    "        weight INTEGER,\n",
    "        href TEXT\n",
    "    );\n",
    "''')\n",
    "\n",
    "conn.commit()\n",
    "conn.close()\n",
    "\n",
    "print('✅ Table reset complete!')\n"
   ]
  },
  {
   "cell_type": "code",
   "execution_count": null,
   "id": "0f749a56",
   "metadata": {},
   "outputs": [
    {
     "name": "stdout",
     "output_type": "stream",
     "text": [
      "✅ Injuries table reset and updated!\n"
     ]
    }
   ],
   "source": [
    "# Drop old injuries table if exists\n",
    "db_path = '/Users/daniellarson/Desktop/Code/Projects/dodgers_injtrkr/data/dodgers_injury_db.sqlite'\n",
    "conn = sqlite3.connect(db_path)\n",
    "cursor = conn.cursor()\n",
    "\n",
    "# Drop old injuries table if exists\n",
    "cursor.execute('DROP TABLE IF EXISTS injuries;')\n",
    "\n",
    "# Recreate injuries table with updated reference\n",
    "cursor.execute('''\n",
    "CREATE TABLE injuries (\n",
    "    injury_id INTEGER PRIMARY KEY AUTOINCREMENT,\n",
    "    mlb_player_id INTEGER,\n",
    "    injury_type TEXT,\n",
    "    il_type TEXT,\n",
    "    injury_start DATE,\n",
    "    injury_end DATE,\n",
    "    notes TEXT,\n",
    "    FOREIGN KEY (mlb_player_id) REFERENCES players(mlb_player_id)\n",
    ");\n",
    "''')\n",
    "\n",
    "conn.commit()\n",
    "conn.close()\n",
    "\n",
    "print('✅ Injuries table reset and updated!')"
   ]
  },
  {
   "cell_type": "code",
   "execution_count": 29,
   "id": "9e79f02a",
   "metadata": {},
   "outputs": [
    {
     "name": "stdout",
     "output_type": "stream",
     "text": [
      "   mlb_player_id             name position                 team         dob  \\\n",
      "0         472610      Luis García     None  Los Angeles Dodgers  01/30/1987   \n",
      "1         477132  Clayton Kershaw     None  Los Angeles Dodgers  03/19/1988   \n",
      "2         489446      Kirby Yates     None  Los Angeles Dodgers  03/25/1987   \n",
      "3         500743     Miguel Rojas     None  Los Angeles Dodgers  02/24/1989   \n",
      "4         518692  Freddie Freeman     None  Los Angeles Dodgers  09/12/1989   \n",
      "\n",
      "  bats throws  weight            href  \n",
      "0    R      R     240  /player/472610  \n",
      "1    L      L     225  /player/477132  \n",
      "2    L      R     205  /player/489446  \n",
      "3    R      R     188  /player/500743  \n",
      "4    L      R     220  /player/518692  \n"
     ]
    }
   ],
   "source": [
    "\n",
    "# Connect to your database\n",
    "db_path = db_path = '/Users/daniellarson/Desktop/Code/Projects/dodgers_injtrkr/data/dodgers_injury_db.sqlite'\n",
    "conn = sqlite3.connect(db_path)\n",
    "\n",
    "# Run your query BEFORE closing the connection\n",
    "query = 'SELECT * FROM players'\n",
    "df = pd.read_sql_query(query, conn)\n",
    "\n",
    "print(df.head(5))\n"
   ]
  },
  {
   "cell_type": "code",
   "execution_count": 31,
   "id": "be0c81bd",
   "metadata": {},
   "outputs": [
    {
     "name": "stdout",
     "output_type": "stream",
     "text": [
      "Empty DataFrame\n",
      "Columns: [injury_id, mlb_player_id, injury_type, il_type, injury_start, injury_end, notes]\n",
      "Index: []\n"
     ]
    }
   ],
   "source": [
    "db_path = db_path = '/Users/daniellarson/Desktop/Code/Projects/dodgers_injtrkr/data/dodgers_injury_db.sqlite'\n",
    "conn = sqlite3.connect(db_path)\n",
    "\n",
    "# Run your query BEFORE closing the connection\n",
    "query = 'SELECT * FROM injuries'\n",
    "df = pd.read_sql_query(query, conn)\n",
    "\n",
    "print(df.head(5))"
   ]
  },
  {
   "cell_type": "code",
   "execution_count": 11,
   "id": "164e089a",
   "metadata": {},
   "outputs": [
    {
     "name": "stdout",
     "output_type": "stream",
     "text": [
      "Dropping table: player_stats\n",
      "Dropping table: game_logs\n",
      "✅ All unnecessary tables dropped!\n"
     ]
    }
   ],
   "source": [
    "\n",
    "# Connect to the database\n",
    "db_path = '/Users/daniellarson/Desktop/Code/Projects/dodgers_injtrkr/data/dodgers_injury_db.sqlite'\n",
    "conn = sqlite3.connect(db_path)\n",
    "cursor = conn.cursor()\n",
    "\n",
    "# Get all table names except 'players', 'injuries', and system table 'sqlite_sequence'\n",
    "cursor.execute(\"\"\"\n",
    "               \n",
    "    SELECT name FROM sqlite_master \n",
    "    WHERE type='table' \n",
    "    AND name NOT IN ('players', 'injuries', 'sqlite_sequence', 'career_fielding_stats', 'career_hitting_stats' , 'career_pitching_stats, player_stats');\n",
    "    \n",
    "\"\"\")\n",
    "tables = cursor.fetchall()\n",
    "\n",
    "# Drop each table\n",
    "for (table_name,) in tables:\n",
    "    print(f\"Dropping table: {table_name}\")\n",
    "    cursor.execute(f\"DROP TABLE IF EXISTS '{table_name}';\")  # use quotes for safety\n",
    "\n",
    "# Commit changes and close connection\n",
    "conn.commit()\n",
    "print(\"✅ All unnecessary tables dropped!\")"
   ]
  },
  {
   "cell_type": "code",
   "execution_count": 14,
   "id": "c697b4f0",
   "metadata": {},
   "outputs": [
    {
     "name": "stdout",
     "output_type": "stream",
     "text": [
      "✅ Table 'player_stats' dropped successfully.\n"
     ]
    }
   ],
   "source": [
    "\n",
    "cursor = conn.cursor()\n",
    "\n",
    "# Drop the table\n",
    "cursor.execute('DROP TABLE IF EXISTS player_stats;')\n",
    "\n",
    "# Commit and close\n",
    "conn.commit()\n",
    "conn.close()\n",
    "\n",
    "print(\"✅ Table 'player_stats' dropped successfully.\")"
   ]
  },
  {
   "cell_type": "code",
   "execution_count": 6,
   "id": "1b97f376",
   "metadata": {},
   "outputs": [
    {
     "name": "stdout",
     "output_type": "stream",
     "text": [
      "✅ 'player_stats' table dropped and recreated with descriptive column names.\n"
     ]
    }
   ],
   "source": [
    "import sqlite3\n",
    "\n",
    "db_path = '/Users/daniellarson/Desktop/Code/Projects/dodgers_injtrkr/data/dodgers_injury_db.sqlite'\n",
    "conn = sqlite3.connect(db_path)\n",
    "cursor = conn.cursor()\n",
    "\n",
    "# Drop the old table if it exists\n",
    "cursor.execute('DROP TABLE IF EXISTS player_stats;')\n",
    "\n",
    "# Recreate the table with clearer column names\n",
    "cursor.execute('''\n",
    "CREATE TABLE player_stats (\n",
    "    mlb_player_id TEXT PRIMARY KEY,\n",
    "    name TEXT,\n",
    "    type TEXT,          -- pitcher or hitter\n",
    "    games TEXT,         -- G\n",
    "    wins TEXT,          -- W (pitcher)\n",
    "    losses TEXT,        -- L (pitcher)\n",
    "    era TEXT,           -- ERA (pitcher)\n",
    "    innings_pitched TEXT, -- IP (pitcher)\n",
    "    strikeouts TEXT,    -- SO (pitcher)\n",
    "    whip TEXT,          -- WHIP (pitcher)\n",
    "    at_bats TEXT,       -- AB (hitter)\n",
    "    runs TEXT,          -- R (hitter)\n",
    "    hits TEXT,          -- H (hitter)\n",
    "    home_runs TEXT,     -- HR (hitter)\n",
    "    rbi TEXT,           -- RBI (hitter)\n",
    "    stolen_bases TEXT,  -- SB (hitter)\n",
    "    avg TEXT,           -- AVG (hitter)\n",
    "    obp TEXT,           -- OBP (hitter)\n",
    "    ops TEXT            -- OPS (hitter)\n",
    ");\n",
    "''')\n",
    "\n",
    "conn.commit()\n",
    "conn.close()\n",
    "\n",
    "print(\"✅ 'player_stats' table dropped and recreated with descriptive column names.\") "
   ]
  },
  {
   "cell_type": "markdown",
   "id": "6e121454",
   "metadata": {},
   "source": [
    "## New Player Stats tables"
   ]
  },
  {
   "cell_type": "code",
   "execution_count": 47,
   "id": "ea398155",
   "metadata": {},
   "outputs": [],
   "source": [
    "db_path = '/Users/daniellarson/Desktop/Code/Projects/dodgers_injtrkr/data/dodgers_injury_db.sqlite'  # change this to your actual path\n",
    "conn = sqlite3.connect(db_path)\n",
    "cursor = conn.cursor()"
   ]
  },
  {
   "cell_type": "code",
   "execution_count": 3,
   "id": "0d9fe752",
   "metadata": {},
   "outputs": [],
   "source": [
    "\n",
    "query1 = 'DROP TABLE IF EXISTS career_fielding_stats'\n",
    "query2 = 'DROP TABLE IF EXISTS career_hitting_stats'\n",
    "query3 = 'DROP TABLE IF EXISTS career_pitching_stats'\n",
    "\n",
    "cursor.execute(query1)\n",
    "cursor.execute(query2)\n",
    "cursor.execute(query3)\n",
    "conn.commit()\n",
    "\n"
   ]
  },
  {
   "cell_type": "code",
   "execution_count": null,
   "id": "daf04b63",
   "metadata": {},
   "outputs": [],
   "source": [
    "#New table creation template \n",
    "\n",
    "import sqlite3\n",
    "\n",
    "# SQL query to create the table\n",
    "create_table_query = '''\n",
    "\n",
    "\n",
    "\n",
    "'''\n",
    "\n",
    "# Execute the query\n",
    "cursor.execute(create_table_query)\n",
    "conn.commit()\n",
    "\n",
    "print(\"Table 'career_pitching_stats' created successfully!\")\n",
    "\n",
    "# Close the connection\n",
    "conn.close()"
   ]
  },
  {
   "cell_type": "code",
   "execution_count": 4,
   "id": "016fbef8",
   "metadata": {},
   "outputs": [
    {
     "name": "stdout",
     "output_type": "stream",
     "text": [
      "Table 'career_pitching_stats' created successfully!\n"
     ]
    }
   ],
   "source": [
    "#New table creation template \n",
    "\n",
    "import sqlite3\n",
    "\n",
    "# SQL query to create the table\n",
    "create_table_query = '''\n",
    "\n",
    "CREATE TABLE career_fielding_stats (\n",
    "    id INTEGER PRIMARY KEY AUTOINCREMENT,\n",
    "    mlb_player_id TEXT,\n",
    "    season TEXT,\n",
    "    team TEXT,\n",
    "    league TEXT,\n",
    "    position TEXT,\n",
    "    games INTEGER,\n",
    "    games_started INTEGER,\n",
    "    innings REAL,\n",
    "    total_chances INTEGER,\n",
    "    putouts INTEGER,\n",
    "    assists INTEGER,\n",
    "    errors INTEGER,\n",
    "    double_plays INTEGER,\n",
    "    passed_balls TEXT,\n",
    "    stolen_bases TEXT,\n",
    "    caught_stealing TEXT,\n",
    "    range_factor TEXT,\n",
    "    fielding_percentage TEXT\n",
    ");\n",
    "\n",
    "'''\n",
    "\n",
    "# Execute the query\n",
    "cursor.execute(create_table_query)\n",
    "conn.commit()\n",
    "\n",
    "print(\"Table 'career_pitching_stats' created successfully!\")\n",
    "\n"
   ]
  },
  {
   "cell_type": "code",
   "execution_count": 5,
   "id": "535417a4",
   "metadata": {},
   "outputs": [
    {
     "name": "stdout",
     "output_type": "stream",
     "text": [
      "Table 'career_hitting_stats' created successfully!\n"
     ]
    }
   ],
   "source": [
    "#New table creation template \n",
    "\n",
    "import sqlite3\n",
    "\n",
    "# SQL query to create the table\n",
    "create_table_query = '''\n",
    "\n",
    "CREATE TABLE career_hitting_stats (\n",
    "    id INTEGER PRIMARY KEY AUTOINCREMENT,\n",
    "    mlb_player_id TEXT,\n",
    "    season TEXT,\n",
    "    team TEXT,\n",
    "    league TEXT,\n",
    "    games INTEGER,\n",
    "    plate_appearances INTEGER,\n",
    "    at_bats INTEGER,\n",
    "    runs INTEGER,\n",
    "    hits INTEGER,\n",
    "    doubles INTEGER,\n",
    "    triples INTEGER,\n",
    "    home_runs INTEGER,\n",
    "    runs_batted_in INTEGER,\n",
    "    stolen_bases INTEGER,\n",
    "    caught_stealing INTEGER,\n",
    "    walks INTEGER,\n",
    "    strikeouts INTEGER,\n",
    "    batting_average TEXT,\n",
    "    on_base_percentage TEXT,\n",
    "    slugging_percentage TEXT,\n",
    "    on_base_plus_slugging TEXT,\n",
    "    total_bases INTEGER,\n",
    "    grounded_into_double_play INTEGER,\n",
    "    hit_by_pitch INTEGER,\n",
    "    sacrifice_hits INTEGER,\n",
    "    sacrifice_flies INTEGER,\n",
    "    intentional_walks INTEGER\n",
    ");\n",
    "\n",
    "'''\n",
    "\n",
    "# Execute the query\n",
    "cursor.execute(create_table_query)\n",
    "conn.commit()\n",
    "\n",
    "print(\"Table 'career_hitting_stats' created successfully!\")"
   ]
  },
  {
   "cell_type": "code",
   "execution_count": 6,
   "id": "4bd2e0ce",
   "metadata": {},
   "outputs": [
    {
     "name": "stdout",
     "output_type": "stream",
     "text": [
      "Table 'career_pitching_stats' created successfully!\n"
     ]
    }
   ],
   "source": [
    "#New table creation template \n",
    "\n",
    "import sqlite3\n",
    "\n",
    "# SQL query to create the table\n",
    "create_table_query = '''\n",
    "\n",
    "CREATE TABLE career_pitching_stats (\n",
    "    id INTEGER PRIMARY KEY AUTOINCREMENT,\n",
    "    mlb_player_id TEXT,\n",
    "    season TEXT,\n",
    "    team TEXT,\n",
    "    league TEXT,\n",
    "    wins INTEGER,\n",
    "    losses INTEGER,\n",
    "    earned_run_average TEXT,\n",
    "    games INTEGER,\n",
    "    games_started INTEGER,\n",
    "    saves INTEGER,\n",
    "    save_opportunities INTEGER,\n",
    "    innings_pitched REAL,\n",
    "    hits INTEGER,\n",
    "    runs INTEGER,\n",
    "    earned_runs INTEGER,\n",
    "    home_runs INTEGER,\n",
    "    walks INTEGER,\n",
    "    strikeouts INTEGER,\n",
    "    whip TEXT,\n",
    "    opposing_batting_average TEXT\n",
    ");\n",
    "\n",
    "'''\n",
    "\n",
    "# Execute the query\n",
    "cursor.execute(create_table_query)\n",
    "conn.commit()\n",
    "\n",
    "print(\"Table 'career_pitching_stats' created successfully!\")\n"
   ]
  },
  {
   "cell_type": "code",
   "execution_count": 48,
   "id": "b700e344",
   "metadata": {},
   "outputs": [],
   "source": [
    "\n",
    "# Query each table\n",
    "fielding_df = pd.read_sql_query(\"SELECT * FROM career_fielding_stats\", conn)\n",
    "hitting_df = pd.read_sql_query(\"SELECT * FROM career_hitting_stats\", conn)\n",
    "pitching_df = pd.read_sql_query(\"SELECT * FROM career_pitching_stats\", conn)\n",
    "                                "
   ]
  },
  {
   "cell_type": "markdown",
   "id": "4af0aee6",
   "metadata": {},
   "source": [
    "Viewing the databases"
   ]
  },
  {
   "cell_type": "code",
   "execution_count": 52,
   "id": "b4809afc",
   "metadata": {},
   "outputs": [
    {
     "data": {
      "text/html": [
       "<div>\n",
       "<style scoped>\n",
       "    .dataframe tbody tr th:only-of-type {\n",
       "        vertical-align: middle;\n",
       "    }\n",
       "\n",
       "    .dataframe tbody tr th {\n",
       "        vertical-align: top;\n",
       "    }\n",
       "\n",
       "    .dataframe thead th {\n",
       "        text-align: right;\n",
       "    }\n",
       "</style>\n",
       "<table border=\"1\" class=\"dataframe\">\n",
       "  <thead>\n",
       "    <tr style=\"text-align: right;\">\n",
       "      <th></th>\n",
       "      <th>id</th>\n",
       "      <th>mlb_player_id</th>\n",
       "      <th>season</th>\n",
       "      <th>team</th>\n",
       "      <th>league</th>\n",
       "      <th>position</th>\n",
       "      <th>games</th>\n",
       "      <th>games_started</th>\n",
       "      <th>innings</th>\n",
       "      <th>total_chances</th>\n",
       "      <th>putouts</th>\n",
       "      <th>assists</th>\n",
       "      <th>errors</th>\n",
       "      <th>double_plays</th>\n",
       "      <th>passed_balls</th>\n",
       "      <th>stolen_bases</th>\n",
       "      <th>caught_stealing</th>\n",
       "      <th>range_factor</th>\n",
       "      <th>fielding_percentage</th>\n",
       "    </tr>\n",
       "  </thead>\n",
       "  <tbody>\n",
       "  </tbody>\n",
       "</table>\n",
       "</div>"
      ],
      "text/plain": [
       "Empty DataFrame\n",
       "Columns: [id, mlb_player_id, season, team, league, position, games, games_started, innings, total_chances, putouts, assists, errors, double_plays, passed_balls, stolen_bases, caught_stealing, range_factor, fielding_percentage]\n",
       "Index: []"
      ]
     },
     "execution_count": 52,
     "metadata": {},
     "output_type": "execute_result"
    }
   ],
   "source": [
    "fielding_df.head(5)"
   ]
  },
  {
   "cell_type": "code",
   "execution_count": 53,
   "id": "6cf8ea06",
   "metadata": {},
   "outputs": [
    {
     "data": {
      "text/html": [
       "<div>\n",
       "<style scoped>\n",
       "    .dataframe tbody tr th:only-of-type {\n",
       "        vertical-align: middle;\n",
       "    }\n",
       "\n",
       "    .dataframe tbody tr th {\n",
       "        vertical-align: top;\n",
       "    }\n",
       "\n",
       "    .dataframe thead th {\n",
       "        text-align: right;\n",
       "    }\n",
       "</style>\n",
       "<table border=\"1\" class=\"dataframe\">\n",
       "  <thead>\n",
       "    <tr style=\"text-align: right;\">\n",
       "      <th></th>\n",
       "      <th>id</th>\n",
       "      <th>mlb_player_id</th>\n",
       "      <th>season</th>\n",
       "      <th>team</th>\n",
       "      <th>league</th>\n",
       "      <th>games</th>\n",
       "      <th>plate_appearances</th>\n",
       "      <th>at_bats</th>\n",
       "      <th>runs</th>\n",
       "      <th>hits</th>\n",
       "      <th>...</th>\n",
       "      <th>batting_average</th>\n",
       "      <th>on_base_percentage</th>\n",
       "      <th>slugging_percentage</th>\n",
       "      <th>on_base_plus_slugging</th>\n",
       "      <th>total_bases</th>\n",
       "      <th>grounded_into_double_play</th>\n",
       "      <th>hit_by_pitch</th>\n",
       "      <th>sacrifice_hits</th>\n",
       "      <th>sacrifice_flies</th>\n",
       "      <th>intentional_walks</th>\n",
       "    </tr>\n",
       "  </thead>\n",
       "  <tbody>\n",
       "  </tbody>\n",
       "</table>\n",
       "<p>0 rows × 28 columns</p>\n",
       "</div>"
      ],
      "text/plain": [
       "Empty DataFrame\n",
       "Columns: [id, mlb_player_id, season, team, league, games, plate_appearances, at_bats, runs, hits, doubles, triples, home_runs, runs_batted_in, stolen_bases, caught_stealing, walks, strikeouts, batting_average, on_base_percentage, slugging_percentage, on_base_plus_slugging, total_bases, grounded_into_double_play, hit_by_pitch, sacrifice_hits, sacrifice_flies, intentional_walks]\n",
       "Index: []\n",
       "\n",
       "[0 rows x 28 columns]"
      ]
     },
     "execution_count": 53,
     "metadata": {},
     "output_type": "execute_result"
    }
   ],
   "source": [
    "hitting_df.head(5)"
   ]
  },
  {
   "cell_type": "code",
   "execution_count": 54,
   "id": "f971fbdc",
   "metadata": {},
   "outputs": [
    {
     "data": {
      "text/html": [
       "<div>\n",
       "<style scoped>\n",
       "    .dataframe tbody tr th:only-of-type {\n",
       "        vertical-align: middle;\n",
       "    }\n",
       "\n",
       "    .dataframe tbody tr th {\n",
       "        vertical-align: top;\n",
       "    }\n",
       "\n",
       "    .dataframe thead th {\n",
       "        text-align: right;\n",
       "    }\n",
       "</style>\n",
       "<table border=\"1\" class=\"dataframe\">\n",
       "  <thead>\n",
       "    <tr style=\"text-align: right;\">\n",
       "      <th></th>\n",
       "      <th>id</th>\n",
       "      <th>mlb_player_id</th>\n",
       "      <th>season</th>\n",
       "      <th>team</th>\n",
       "      <th>league</th>\n",
       "      <th>wins</th>\n",
       "      <th>losses</th>\n",
       "      <th>earned_run_average</th>\n",
       "      <th>games</th>\n",
       "      <th>games_started</th>\n",
       "      <th>...</th>\n",
       "      <th>save_opportunities</th>\n",
       "      <th>innings_pitched</th>\n",
       "      <th>hits</th>\n",
       "      <th>runs</th>\n",
       "      <th>earned_runs</th>\n",
       "      <th>home_runs</th>\n",
       "      <th>walks</th>\n",
       "      <th>strikeouts</th>\n",
       "      <th>whip</th>\n",
       "      <th>opposing_batting_average</th>\n",
       "    </tr>\n",
       "  </thead>\n",
       "  <tbody>\n",
       "  </tbody>\n",
       "</table>\n",
       "<p>0 rows × 21 columns</p>\n",
       "</div>"
      ],
      "text/plain": [
       "Empty DataFrame\n",
       "Columns: [id, mlb_player_id, season, team, league, wins, losses, earned_run_average, games, games_started, saves, save_opportunities, innings_pitched, hits, runs, earned_runs, home_runs, walks, strikeouts, whip, opposing_batting_average]\n",
       "Index: []\n",
       "\n",
       "[0 rows x 21 columns]"
      ]
     },
     "execution_count": 54,
     "metadata": {},
     "output_type": "execute_result"
    }
   ],
   "source": [
    "pitching_df.head(5)"
   ]
  },
  {
   "cell_type": "markdown",
   "id": "3e0190a5",
   "metadata": {},
   "source": [
    "## New Game log Table"
   ]
  },
  {
   "cell_type": "code",
   "execution_count": 5,
   "id": "407220ec",
   "metadata": {},
   "outputs": [
    {
     "name": "stdout",
     "output_type": "stream",
     "text": [
      "Game logs table created successfully!\n"
     ]
    }
   ],
   "source": [
    "# Create game_logs table if it doesn't exist\n",
    "cursor.execute('''\n",
    "CREATE TABLE IF NOT EXISTS game_logs (\n",
    "    id INTEGER PRIMARY KEY AUTOINCREMENT,\n",
    "    mlb_player_id INTEGER,\n",
    "    game_date TEXT,\n",
    "    team TEXT,\n",
    "    opponent TEXT,\n",
    "    ab INTEGER,\n",
    "    r INTEGER,\n",
    "    h INTEGER,\n",
    "    tb INTEGER,\n",
    "    doubles INTEGER,\n",
    "    triples INTEGER,\n",
    "    hr INTEGER,\n",
    "    rbi INTEGER,\n",
    "    bb INTEGER,\n",
    "    ibb INTEGER,\n",
    "    so INTEGER,\n",
    "    sb INTEGER,\n",
    "    cs INTEGER,\n",
    "    avg REAL,\n",
    "    obp REAL,\n",
    "    slg REAL,\n",
    "    hbp INTEGER,\n",
    "    sac INTEGER,\n",
    "    sf INTEGER,\n",
    "    UNIQUE(mlb_player_id, game_date)\n",
    ")\n",
    "''')\n",
    "\n",
    "print(\"Game logs table created successfully!\")"
   ]
  },
  {
   "cell_type": "markdown",
   "id": "611d5e12",
   "metadata": {},
   "source": [
    "## Drop Unnecessary Tables"
   ]
  },
  {
   "cell_type": "code",
   "execution_count": 4,
   "id": "5d2236ca",
   "metadata": {},
   "outputs": [
    {
     "name": "stdout",
     "output_type": "stream",
     "text": [
      "✅ All unnecessary tables dropped!\n"
     ]
    }
   ],
   "source": [
    "\n",
    "# Get all table names we want to not drop\n",
    "cursor.execute(\"\"\"\n",
    "    SELECT name FROM sqlite_master \n",
    "    WHERE type='table' \n",
    "    AND name NOT IN (\n",
    "        'players', 'injuries', 'sqlite_sequence', 'career_fielding_stats', \n",
    "        'career_hitting_stats', 'career_pitching_stats', 'player_stats', 'game_logs'\n",
    "    );\n",
    "\"\"\")\n",
    "tables = cursor.fetchall()\n",
    "\n",
    "# Drop each table for the rest not defined in the list\n",
    "for (table_name,) in tables:\n",
    "    print(f\"Dropping table: {table_name}\")\n",
    "    cursor.execute(f\"DROP TABLE IF EXISTS '{table_name}';\")  # use quotes for safety\n",
    "\n",
    "# Commit changes\n",
    "conn.commit()\n",
    "print(\"✅ All unnecessary tables dropped!\")"
   ]
  }
 ],
 "metadata": {
  "kernelspec": {
   "display_name": "venv",
   "language": "python",
   "name": "python3"
  },
  "language_info": {
   "codemirror_mode": {
    "name": "ipython",
    "version": 3
   },
   "file_extension": ".py",
   "mimetype": "text/x-python",
   "name": "python",
   "nbconvert_exporter": "python",
   "pygments_lexer": "ipython3",
   "version": "3.11.9"
  }
 },
 "nbformat": 4,
 "nbformat_minor": 5
}
